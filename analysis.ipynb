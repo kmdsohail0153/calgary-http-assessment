{
  "nbformat": 4,
  "nbformat_minor": 0,
  "metadata": {
    "colab": {
      "provenance": []
    },
    "kernelspec": {
      "name": "python3",
      "display_name": "Python 3"
    },
    "language_info": {
      "name": "python"
    }
  },
  "cells": [
    {
      "cell_type": "markdown",
      "source": [
        "## Part 1: Data Loading and Cleaning"
      ],
      "metadata": {
        "id": "bq3qfm_9nJXJ"
      }
    },
    {
      "cell_type": "code",
      "source": [
        "from google.colab import files\n",
        "uploaded = files.upload()\n"
      ],
      "metadata": {
        "colab": {
          "base_uri": "https://localhost:8080/",
          "height": 73
        },
        "id": "jj8l4e1m0BjX",
        "outputId": "7eb64996-cc49-47de-f655-44718cfcf53f"
      },
      "execution_count": 34,
      "outputs": [
        {
          "output_type": "display_data",
          "data": {
            "text/plain": [
              "<IPython.core.display.HTML object>"
            ],
            "text/html": [
              "\n",
              "     <input type=\"file\" id=\"files-5df8e33d-7fd2-45ec-9517-92c432255922\" name=\"files[]\" multiple disabled\n",
              "        style=\"border:none\" />\n",
              "     <output id=\"result-5df8e33d-7fd2-45ec-9517-92c432255922\">\n",
              "      Upload widget is only available when the cell has been executed in the\n",
              "      current browser session. Please rerun this cell to enable.\n",
              "      </output>\n",
              "      <script>// Copyright 2017 Google LLC\n",
              "//\n",
              "// Licensed under the Apache License, Version 2.0 (the \"License\");\n",
              "// you may not use this file except in compliance with the License.\n",
              "// You may obtain a copy of the License at\n",
              "//\n",
              "//      http://www.apache.org/licenses/LICENSE-2.0\n",
              "//\n",
              "// Unless required by applicable law or agreed to in writing, software\n",
              "// distributed under the License is distributed on an \"AS IS\" BASIS,\n",
              "// WITHOUT WARRANTIES OR CONDITIONS OF ANY KIND, either express or implied.\n",
              "// See the License for the specific language governing permissions and\n",
              "// limitations under the License.\n",
              "\n",
              "/**\n",
              " * @fileoverview Helpers for google.colab Python module.\n",
              " */\n",
              "(function(scope) {\n",
              "function span(text, styleAttributes = {}) {\n",
              "  const element = document.createElement('span');\n",
              "  element.textContent = text;\n",
              "  for (const key of Object.keys(styleAttributes)) {\n",
              "    element.style[key] = styleAttributes[key];\n",
              "  }\n",
              "  return element;\n",
              "}\n",
              "\n",
              "// Max number of bytes which will be uploaded at a time.\n",
              "const MAX_PAYLOAD_SIZE = 100 * 1024;\n",
              "\n",
              "function _uploadFiles(inputId, outputId) {\n",
              "  const steps = uploadFilesStep(inputId, outputId);\n",
              "  const outputElement = document.getElementById(outputId);\n",
              "  // Cache steps on the outputElement to make it available for the next call\n",
              "  // to uploadFilesContinue from Python.\n",
              "  outputElement.steps = steps;\n",
              "\n",
              "  return _uploadFilesContinue(outputId);\n",
              "}\n",
              "\n",
              "// This is roughly an async generator (not supported in the browser yet),\n",
              "// where there are multiple asynchronous steps and the Python side is going\n",
              "// to poll for completion of each step.\n",
              "// This uses a Promise to block the python side on completion of each step,\n",
              "// then passes the result of the previous step as the input to the next step.\n",
              "function _uploadFilesContinue(outputId) {\n",
              "  const outputElement = document.getElementById(outputId);\n",
              "  const steps = outputElement.steps;\n",
              "\n",
              "  const next = steps.next(outputElement.lastPromiseValue);\n",
              "  return Promise.resolve(next.value.promise).then((value) => {\n",
              "    // Cache the last promise value to make it available to the next\n",
              "    // step of the generator.\n",
              "    outputElement.lastPromiseValue = value;\n",
              "    return next.value.response;\n",
              "  });\n",
              "}\n",
              "\n",
              "/**\n",
              " * Generator function which is called between each async step of the upload\n",
              " * process.\n",
              " * @param {string} inputId Element ID of the input file picker element.\n",
              " * @param {string} outputId Element ID of the output display.\n",
              " * @return {!Iterable<!Object>} Iterable of next steps.\n",
              " */\n",
              "function* uploadFilesStep(inputId, outputId) {\n",
              "  const inputElement = document.getElementById(inputId);\n",
              "  inputElement.disabled = false;\n",
              "\n",
              "  const outputElement = document.getElementById(outputId);\n",
              "  outputElement.innerHTML = '';\n",
              "\n",
              "  const pickedPromise = new Promise((resolve) => {\n",
              "    inputElement.addEventListener('change', (e) => {\n",
              "      resolve(e.target.files);\n",
              "    });\n",
              "  });\n",
              "\n",
              "  const cancel = document.createElement('button');\n",
              "  inputElement.parentElement.appendChild(cancel);\n",
              "  cancel.textContent = 'Cancel upload';\n",
              "  const cancelPromise = new Promise((resolve) => {\n",
              "    cancel.onclick = () => {\n",
              "      resolve(null);\n",
              "    };\n",
              "  });\n",
              "\n",
              "  // Wait for the user to pick the files.\n",
              "  const files = yield {\n",
              "    promise: Promise.race([pickedPromise, cancelPromise]),\n",
              "    response: {\n",
              "      action: 'starting',\n",
              "    }\n",
              "  };\n",
              "\n",
              "  cancel.remove();\n",
              "\n",
              "  // Disable the input element since further picks are not allowed.\n",
              "  inputElement.disabled = true;\n",
              "\n",
              "  if (!files) {\n",
              "    return {\n",
              "      response: {\n",
              "        action: 'complete',\n",
              "      }\n",
              "    };\n",
              "  }\n",
              "\n",
              "  for (const file of files) {\n",
              "    const li = document.createElement('li');\n",
              "    li.append(span(file.name, {fontWeight: 'bold'}));\n",
              "    li.append(span(\n",
              "        `(${file.type || 'n/a'}) - ${file.size} bytes, ` +\n",
              "        `last modified: ${\n",
              "            file.lastModifiedDate ? file.lastModifiedDate.toLocaleDateString() :\n",
              "                                    'n/a'} - `));\n",
              "    const percent = span('0% done');\n",
              "    li.appendChild(percent);\n",
              "\n",
              "    outputElement.appendChild(li);\n",
              "\n",
              "    const fileDataPromise = new Promise((resolve) => {\n",
              "      const reader = new FileReader();\n",
              "      reader.onload = (e) => {\n",
              "        resolve(e.target.result);\n",
              "      };\n",
              "      reader.readAsArrayBuffer(file);\n",
              "    });\n",
              "    // Wait for the data to be ready.\n",
              "    let fileData = yield {\n",
              "      promise: fileDataPromise,\n",
              "      response: {\n",
              "        action: 'continue',\n",
              "      }\n",
              "    };\n",
              "\n",
              "    // Use a chunked sending to avoid message size limits. See b/62115660.\n",
              "    let position = 0;\n",
              "    do {\n",
              "      const length = Math.min(fileData.byteLength - position, MAX_PAYLOAD_SIZE);\n",
              "      const chunk = new Uint8Array(fileData, position, length);\n",
              "      position += length;\n",
              "\n",
              "      const base64 = btoa(String.fromCharCode.apply(null, chunk));\n",
              "      yield {\n",
              "        response: {\n",
              "          action: 'append',\n",
              "          file: file.name,\n",
              "          data: base64,\n",
              "        },\n",
              "      };\n",
              "\n",
              "      let percentDone = fileData.byteLength === 0 ?\n",
              "          100 :\n",
              "          Math.round((position / fileData.byteLength) * 100);\n",
              "      percent.textContent = `${percentDone}% done`;\n",
              "\n",
              "    } while (position < fileData.byteLength);\n",
              "  }\n",
              "\n",
              "  // All done.\n",
              "  yield {\n",
              "    response: {\n",
              "      action: 'complete',\n",
              "    }\n",
              "  };\n",
              "}\n",
              "\n",
              "scope.google = scope.google || {};\n",
              "scope.google.colab = scope.google.colab || {};\n",
              "scope.google.colab._files = {\n",
              "  _uploadFiles,\n",
              "  _uploadFilesContinue,\n",
              "};\n",
              "})(self);\n",
              "</script> "
            ]
          },
          "metadata": {}
        },
        {
          "output_type": "stream",
          "name": "stdout",
          "text": [
            "Saving calgary_access_log.gz to calgary_access_log.gz\n"
          ]
        }
      ]
    },
    {
      "cell_type": "code",
      "source": [
        "import gzip\n",
        "import shutil\n",
        "\n",
        "# Extract the contents of .gz into access_log\n",
        "with gzip.open('calgary_access_log.gz', 'rb') as f_in:\n",
        "    with open('access_log', 'wb') as f_out:\n",
        "        shutil.copyfileobj(f_in, f_out)\n",
        "\n",
        "print(\"✅ Extracted file: access_log\")\n"
      ],
      "metadata": {
        "colab": {
          "base_uri": "https://localhost:8080/"
        },
        "id": "au55g3on4Hwy",
        "outputId": "39059861-17ed-4b43-9790-dcefae987155"
      },
      "execution_count": 35,
      "outputs": [
        {
          "output_type": "stream",
          "name": "stdout",
          "text": [
            "✅ Extracted file: access_log\n"
          ]
        }
      ]
    },
    {
      "source": [
        "import pandas as pd\n",
        "import re\n",
        "from datetime import datetime\n",
        "from tqdm import tqdm\n",
        "\n",
        "# Apache log format pattern\n",
        "log_pattern = re.compile(\n",
        "    r'(?P<remotehost>\\S+) (?P<rfc931>\\S+) (?P<authuser>\\S+) '\n",
        "    r'\\[(?P<date>[^\\]]+)\\] \"(?P<request>[^\"]*)\" '\n",
        "    r'(?P<status>\\d{3}) (?P<bytes>\\S+)'\n",
        ")\n",
        "\n",
        "log_entries = []\n",
        "\n",
        "with open('access_log', 'r', encoding='utf-8', errors='ignore') as file:\n",
        "    for line in tqdm(file, desc=\"🔍 Parsing log entries\"):\n",
        "        match = log_pattern.match(line)\n",
        "        if match:\n",
        "            entry = match.groupdict()\n",
        "\n",
        "            # Parse datetime\n",
        "            try:\n",
        "                entry['datetime'] = datetime.strptime(entry['date'], \"%d/%b/%Y:%H:%M:%S %z\")\n",
        "            except:\n",
        "                continue  # skip malformed dates\n",
        "\n",
        "            # Parse request\n",
        "            parts = entry['request'].split()\n",
        "            if len(parts) == 3:\n",
        "                entry['method'], entry['filename'], entry['protocol'] = parts\n",
        "            else:\n",
        "                entry['method'], entry['filename'], entry['protocol'] = None, None, None\n",
        "\n",
        "            # Convert bytes\n",
        "            entry['bytes'] = int(entry['bytes']) if entry['bytes'].isdigit() else None\n",
        "\n",
        "            # Convert status\n",
        "            try:\n",
        "                entry['status'] = int(entry['status'])\n",
        "            except:\n",
        "                entry['status'] = None\n",
        "\n",
        "            # Extract file extension\n",
        "            if entry['filename'] and '.' in entry['filename']:\n",
        "                entry['extension'] = entry['filename'].split('.')[-1].lower()\n",
        "            else:\n",
        "                entry['extension'] = None\n",
        "\n",
        "            log_entries.append(entry)\n"
      ],
      "cell_type": "code",
      "metadata": {
        "colab": {
          "base_uri": "https://localhost:8080/"
        },
        "id": "nyyv_NJeV58A",
        "outputId": "8e2780ab-36bf-4629-f785-b0dbbc09cdf7"
      },
      "execution_count": 36,
      "outputs": [
        {
          "output_type": "stream",
          "name": "stderr",
          "text": [
            "🔍 Parsing log entries: 726739it [00:14, 50814.65it/s]\n"
          ]
        }
      ]
    },
    {
      "cell_type": "code",
      "source": [
        "# Convert to DataFrame\n",
        "df = pd.DataFrame(log_entries)\n",
        "\n",
        "print(f\"\\n✅ Successfully parsed {len(df)} valid log entries.\")\n",
        "df.head()\n"
      ],
      "metadata": {
        "colab": {
          "base_uri": "https://localhost:8080/",
          "height": 241
        },
        "id": "cAFN8mHt4mon",
        "outputId": "fb6f3554-830b-45ea-99ec-af0681c1b8cd"
      },
      "execution_count": 37,
      "outputs": [
        {
          "output_type": "stream",
          "name": "stdout",
          "text": [
            "\n",
            "✅ Successfully parsed 724836 valid log entries.\n"
          ]
        },
        {
          "output_type": "execute_result",
          "data": {
            "text/plain": [
              "  remotehost rfc931 authuser                        date  \\\n",
              "0      local      -        -  24/Oct/1994:13:41:41 -0600   \n",
              "1      local      -        -  24/Oct/1994:13:41:41 -0600   \n",
              "2      local      -        -  24/Oct/1994:13:43:13 -0600   \n",
              "3      local      -        -  24/Oct/1994:13:43:14 -0600   \n",
              "4      local      -        -  24/Oct/1994:13:43:15 -0600   \n",
              "\n",
              "                   request  status    bytes                   datetime method  \\\n",
              "0  GET index.html HTTP/1.0     200    150.0  1994-10-24 13:41:41-06:00    GET   \n",
              "1       GET 1.gif HTTP/1.0     200   1210.0  1994-10-24 13:41:41-06:00    GET   \n",
              "2  GET index.html HTTP/1.0     200   3185.0  1994-10-24 13:43:13-06:00    GET   \n",
              "3       GET 2.gif HTTP/1.0     200   2555.0  1994-10-24 13:43:14-06:00    GET   \n",
              "4       GET 3.gif HTTP/1.0     200  36403.0  1994-10-24 13:43:15-06:00    GET   \n",
              "\n",
              "     filename  protocol extension  \n",
              "0  index.html  HTTP/1.0      html  \n",
              "1       1.gif  HTTP/1.0       gif  \n",
              "2  index.html  HTTP/1.0      html  \n",
              "3       2.gif  HTTP/1.0       gif  \n",
              "4       3.gif  HTTP/1.0       gif  "
            ],
            "text/html": [
              "\n",
              "  <div id=\"df-06534a69-031f-4761-8f68-fbccef29273b\" class=\"colab-df-container\">\n",
              "    <div>\n",
              "<style scoped>\n",
              "    .dataframe tbody tr th:only-of-type {\n",
              "        vertical-align: middle;\n",
              "    }\n",
              "\n",
              "    .dataframe tbody tr th {\n",
              "        vertical-align: top;\n",
              "    }\n",
              "\n",
              "    .dataframe thead th {\n",
              "        text-align: right;\n",
              "    }\n",
              "</style>\n",
              "<table border=\"1\" class=\"dataframe\">\n",
              "  <thead>\n",
              "    <tr style=\"text-align: right;\">\n",
              "      <th></th>\n",
              "      <th>remotehost</th>\n",
              "      <th>rfc931</th>\n",
              "      <th>authuser</th>\n",
              "      <th>date</th>\n",
              "      <th>request</th>\n",
              "      <th>status</th>\n",
              "      <th>bytes</th>\n",
              "      <th>datetime</th>\n",
              "      <th>method</th>\n",
              "      <th>filename</th>\n",
              "      <th>protocol</th>\n",
              "      <th>extension</th>\n",
              "    </tr>\n",
              "  </thead>\n",
              "  <tbody>\n",
              "    <tr>\n",
              "      <th>0</th>\n",
              "      <td>local</td>\n",
              "      <td>-</td>\n",
              "      <td>-</td>\n",
              "      <td>24/Oct/1994:13:41:41 -0600</td>\n",
              "      <td>GET index.html HTTP/1.0</td>\n",
              "      <td>200</td>\n",
              "      <td>150.0</td>\n",
              "      <td>1994-10-24 13:41:41-06:00</td>\n",
              "      <td>GET</td>\n",
              "      <td>index.html</td>\n",
              "      <td>HTTP/1.0</td>\n",
              "      <td>html</td>\n",
              "    </tr>\n",
              "    <tr>\n",
              "      <th>1</th>\n",
              "      <td>local</td>\n",
              "      <td>-</td>\n",
              "      <td>-</td>\n",
              "      <td>24/Oct/1994:13:41:41 -0600</td>\n",
              "      <td>GET 1.gif HTTP/1.0</td>\n",
              "      <td>200</td>\n",
              "      <td>1210.0</td>\n",
              "      <td>1994-10-24 13:41:41-06:00</td>\n",
              "      <td>GET</td>\n",
              "      <td>1.gif</td>\n",
              "      <td>HTTP/1.0</td>\n",
              "      <td>gif</td>\n",
              "    </tr>\n",
              "    <tr>\n",
              "      <th>2</th>\n",
              "      <td>local</td>\n",
              "      <td>-</td>\n",
              "      <td>-</td>\n",
              "      <td>24/Oct/1994:13:43:13 -0600</td>\n",
              "      <td>GET index.html HTTP/1.0</td>\n",
              "      <td>200</td>\n",
              "      <td>3185.0</td>\n",
              "      <td>1994-10-24 13:43:13-06:00</td>\n",
              "      <td>GET</td>\n",
              "      <td>index.html</td>\n",
              "      <td>HTTP/1.0</td>\n",
              "      <td>html</td>\n",
              "    </tr>\n",
              "    <tr>\n",
              "      <th>3</th>\n",
              "      <td>local</td>\n",
              "      <td>-</td>\n",
              "      <td>-</td>\n",
              "      <td>24/Oct/1994:13:43:14 -0600</td>\n",
              "      <td>GET 2.gif HTTP/1.0</td>\n",
              "      <td>200</td>\n",
              "      <td>2555.0</td>\n",
              "      <td>1994-10-24 13:43:14-06:00</td>\n",
              "      <td>GET</td>\n",
              "      <td>2.gif</td>\n",
              "      <td>HTTP/1.0</td>\n",
              "      <td>gif</td>\n",
              "    </tr>\n",
              "    <tr>\n",
              "      <th>4</th>\n",
              "      <td>local</td>\n",
              "      <td>-</td>\n",
              "      <td>-</td>\n",
              "      <td>24/Oct/1994:13:43:15 -0600</td>\n",
              "      <td>GET 3.gif HTTP/1.0</td>\n",
              "      <td>200</td>\n",
              "      <td>36403.0</td>\n",
              "      <td>1994-10-24 13:43:15-06:00</td>\n",
              "      <td>GET</td>\n",
              "      <td>3.gif</td>\n",
              "      <td>HTTP/1.0</td>\n",
              "      <td>gif</td>\n",
              "    </tr>\n",
              "  </tbody>\n",
              "</table>\n",
              "</div>\n",
              "    <div class=\"colab-df-buttons\">\n",
              "\n",
              "  <div class=\"colab-df-container\">\n",
              "    <button class=\"colab-df-convert\" onclick=\"convertToInteractive('df-06534a69-031f-4761-8f68-fbccef29273b')\"\n",
              "            title=\"Convert this dataframe to an interactive table.\"\n",
              "            style=\"display:none;\">\n",
              "\n",
              "  <svg xmlns=\"http://www.w3.org/2000/svg\" height=\"24px\" viewBox=\"0 -960 960 960\">\n",
              "    <path d=\"M120-120v-720h720v720H120Zm60-500h600v-160H180v160Zm220 220h160v-160H400v160Zm0 220h160v-160H400v160ZM180-400h160v-160H180v160Zm440 0h160v-160H620v160ZM180-180h160v-160H180v160Zm440 0h160v-160H620v160Z\"/>\n",
              "  </svg>\n",
              "    </button>\n",
              "\n",
              "  <style>\n",
              "    .colab-df-container {\n",
              "      display:flex;\n",
              "      gap: 12px;\n",
              "    }\n",
              "\n",
              "    .colab-df-convert {\n",
              "      background-color: #E8F0FE;\n",
              "      border: none;\n",
              "      border-radius: 50%;\n",
              "      cursor: pointer;\n",
              "      display: none;\n",
              "      fill: #1967D2;\n",
              "      height: 32px;\n",
              "      padding: 0 0 0 0;\n",
              "      width: 32px;\n",
              "    }\n",
              "\n",
              "    .colab-df-convert:hover {\n",
              "      background-color: #E2EBFA;\n",
              "      box-shadow: 0px 1px 2px rgba(60, 64, 67, 0.3), 0px 1px 3px 1px rgba(60, 64, 67, 0.15);\n",
              "      fill: #174EA6;\n",
              "    }\n",
              "\n",
              "    .colab-df-buttons div {\n",
              "      margin-bottom: 4px;\n",
              "    }\n",
              "\n",
              "    [theme=dark] .colab-df-convert {\n",
              "      background-color: #3B4455;\n",
              "      fill: #D2E3FC;\n",
              "    }\n",
              "\n",
              "    [theme=dark] .colab-df-convert:hover {\n",
              "      background-color: #434B5C;\n",
              "      box-shadow: 0px 1px 3px 1px rgba(0, 0, 0, 0.15);\n",
              "      filter: drop-shadow(0px 1px 2px rgba(0, 0, 0, 0.3));\n",
              "      fill: #FFFFFF;\n",
              "    }\n",
              "  </style>\n",
              "\n",
              "    <script>\n",
              "      const buttonEl =\n",
              "        document.querySelector('#df-06534a69-031f-4761-8f68-fbccef29273b button.colab-df-convert');\n",
              "      buttonEl.style.display =\n",
              "        google.colab.kernel.accessAllowed ? 'block' : 'none';\n",
              "\n",
              "      async function convertToInteractive(key) {\n",
              "        const element = document.querySelector('#df-06534a69-031f-4761-8f68-fbccef29273b');\n",
              "        const dataTable =\n",
              "          await google.colab.kernel.invokeFunction('convertToInteractive',\n",
              "                                                    [key], {});\n",
              "        if (!dataTable) return;\n",
              "\n",
              "        const docLinkHtml = 'Like what you see? Visit the ' +\n",
              "          '<a target=\"_blank\" href=https://colab.research.google.com/notebooks/data_table.ipynb>data table notebook</a>'\n",
              "          + ' to learn more about interactive tables.';\n",
              "        element.innerHTML = '';\n",
              "        dataTable['output_type'] = 'display_data';\n",
              "        await google.colab.output.renderOutput(dataTable, element);\n",
              "        const docLink = document.createElement('div');\n",
              "        docLink.innerHTML = docLinkHtml;\n",
              "        element.appendChild(docLink);\n",
              "      }\n",
              "    </script>\n",
              "  </div>\n",
              "\n",
              "\n",
              "    <div id=\"df-57452911-9832-4c3f-a00d-06c61ec37892\">\n",
              "      <button class=\"colab-df-quickchart\" onclick=\"quickchart('df-57452911-9832-4c3f-a00d-06c61ec37892')\"\n",
              "                title=\"Suggest charts\"\n",
              "                style=\"display:none;\">\n",
              "\n",
              "<svg xmlns=\"http://www.w3.org/2000/svg\" height=\"24px\"viewBox=\"0 0 24 24\"\n",
              "     width=\"24px\">\n",
              "    <g>\n",
              "        <path d=\"M19 3H5c-1.1 0-2 .9-2 2v14c0 1.1.9 2 2 2h14c1.1 0 2-.9 2-2V5c0-1.1-.9-2-2-2zM9 17H7v-7h2v7zm4 0h-2V7h2v10zm4 0h-2v-4h2v4z\"/>\n",
              "    </g>\n",
              "</svg>\n",
              "      </button>\n",
              "\n",
              "<style>\n",
              "  .colab-df-quickchart {\n",
              "      --bg-color: #E8F0FE;\n",
              "      --fill-color: #1967D2;\n",
              "      --hover-bg-color: #E2EBFA;\n",
              "      --hover-fill-color: #174EA6;\n",
              "      --disabled-fill-color: #AAA;\n",
              "      --disabled-bg-color: #DDD;\n",
              "  }\n",
              "\n",
              "  [theme=dark] .colab-df-quickchart {\n",
              "      --bg-color: #3B4455;\n",
              "      --fill-color: #D2E3FC;\n",
              "      --hover-bg-color: #434B5C;\n",
              "      --hover-fill-color: #FFFFFF;\n",
              "      --disabled-bg-color: #3B4455;\n",
              "      --disabled-fill-color: #666;\n",
              "  }\n",
              "\n",
              "  .colab-df-quickchart {\n",
              "    background-color: var(--bg-color);\n",
              "    border: none;\n",
              "    border-radius: 50%;\n",
              "    cursor: pointer;\n",
              "    display: none;\n",
              "    fill: var(--fill-color);\n",
              "    height: 32px;\n",
              "    padding: 0;\n",
              "    width: 32px;\n",
              "  }\n",
              "\n",
              "  .colab-df-quickchart:hover {\n",
              "    background-color: var(--hover-bg-color);\n",
              "    box-shadow: 0 1px 2px rgba(60, 64, 67, 0.3), 0 1px 3px 1px rgba(60, 64, 67, 0.15);\n",
              "    fill: var(--button-hover-fill-color);\n",
              "  }\n",
              "\n",
              "  .colab-df-quickchart-complete:disabled,\n",
              "  .colab-df-quickchart-complete:disabled:hover {\n",
              "    background-color: var(--disabled-bg-color);\n",
              "    fill: var(--disabled-fill-color);\n",
              "    box-shadow: none;\n",
              "  }\n",
              "\n",
              "  .colab-df-spinner {\n",
              "    border: 2px solid var(--fill-color);\n",
              "    border-color: transparent;\n",
              "    border-bottom-color: var(--fill-color);\n",
              "    animation:\n",
              "      spin 1s steps(1) infinite;\n",
              "  }\n",
              "\n",
              "  @keyframes spin {\n",
              "    0% {\n",
              "      border-color: transparent;\n",
              "      border-bottom-color: var(--fill-color);\n",
              "      border-left-color: var(--fill-color);\n",
              "    }\n",
              "    20% {\n",
              "      border-color: transparent;\n",
              "      border-left-color: var(--fill-color);\n",
              "      border-top-color: var(--fill-color);\n",
              "    }\n",
              "    30% {\n",
              "      border-color: transparent;\n",
              "      border-left-color: var(--fill-color);\n",
              "      border-top-color: var(--fill-color);\n",
              "      border-right-color: var(--fill-color);\n",
              "    }\n",
              "    40% {\n",
              "      border-color: transparent;\n",
              "      border-right-color: var(--fill-color);\n",
              "      border-top-color: var(--fill-color);\n",
              "    }\n",
              "    60% {\n",
              "      border-color: transparent;\n",
              "      border-right-color: var(--fill-color);\n",
              "    }\n",
              "    80% {\n",
              "      border-color: transparent;\n",
              "      border-right-color: var(--fill-color);\n",
              "      border-bottom-color: var(--fill-color);\n",
              "    }\n",
              "    90% {\n",
              "      border-color: transparent;\n",
              "      border-bottom-color: var(--fill-color);\n",
              "    }\n",
              "  }\n",
              "</style>\n",
              "\n",
              "      <script>\n",
              "        async function quickchart(key) {\n",
              "          const quickchartButtonEl =\n",
              "            document.querySelector('#' + key + ' button');\n",
              "          quickchartButtonEl.disabled = true;  // To prevent multiple clicks.\n",
              "          quickchartButtonEl.classList.add('colab-df-spinner');\n",
              "          try {\n",
              "            const charts = await google.colab.kernel.invokeFunction(\n",
              "                'suggestCharts', [key], {});\n",
              "          } catch (error) {\n",
              "            console.error('Error during call to suggestCharts:', error);\n",
              "          }\n",
              "          quickchartButtonEl.classList.remove('colab-df-spinner');\n",
              "          quickchartButtonEl.classList.add('colab-df-quickchart-complete');\n",
              "        }\n",
              "        (() => {\n",
              "          let quickchartButtonEl =\n",
              "            document.querySelector('#df-57452911-9832-4c3f-a00d-06c61ec37892 button');\n",
              "          quickchartButtonEl.style.display =\n",
              "            google.colab.kernel.accessAllowed ? 'block' : 'none';\n",
              "        })();\n",
              "      </script>\n",
              "    </div>\n",
              "\n",
              "    </div>\n",
              "  </div>\n"
            ],
            "application/vnd.google.colaboratory.intrinsic+json": {
              "type": "dataframe",
              "variable_name": "df"
            }
          },
          "metadata": {},
          "execution_count": 37
        }
      ]
    },
    {
      "cell_type": "markdown",
      "source": [
        "## Part 2: Analysis Questions"
      ],
      "metadata": {
        "id": "5OPvJbLnm_7W"
      }
    },
    {
      "cell_type": "code",
      "source": [
        "# Q1: Count of total log records\n",
        "print(\"Q1: Total number of HTTP requests (log entries):\")\n",
        "total_logs = len(df)\n",
        "print(total_logs)"
      ],
      "metadata": {
        "colab": {
          "base_uri": "https://localhost:8080/"
        },
        "id": "vlLS3hyLWSyt",
        "outputId": "d231352c-235a-4c46-decc-7a69ff4c8f8c"
      },
      "execution_count": 38,
      "outputs": [
        {
          "output_type": "stream",
          "name": "stdout",
          "text": [
            "Q1: Total number of HTTP requests (log entries):\n",
            "724836\n"
          ]
        }
      ]
    },
    {
      "cell_type": "code",
      "source": [
        "# Q2: Count of unique hosts\n",
        "print(\"\\nQ2: Number of unique remote hosts:\")\n",
        "unique_hosts = df['remotehost'].nunique()\n",
        "print(unique_hosts)"
      ],
      "metadata": {
        "colab": {
          "base_uri": "https://localhost:8080/"
        },
        "id": "cdE_4o7-nTMN",
        "outputId": "6cbfce39-3d26-4c91-831f-2fcbb62c8dfc"
      },
      "execution_count": 39,
      "outputs": [
        {
          "output_type": "stream",
          "name": "stdout",
          "text": [
            "\n",
            "Q2: Number of unique remote hosts:\n",
            "2\n"
          ]
        }
      ]
    },
    {
      "cell_type": "code",
      "source": [
        "# Q3: Date-wise unique filename counts\n",
        "print(\"\\nQ3: Unique filenames per date (format: dd-MMM-yyyy):\")\n",
        "\n",
        "# Ensure the 'datetime' column is of datetime type, coercing errors\n",
        "df['datetime'] = pd.to_datetime(df['datetime'], errors='coerce')\n",
        "\n",
        "# Drop rows where 'datetime' is NaT (Not a Time), which indicates a failed conversion\n",
        "df_cleaned = df.dropna(subset=['datetime']).copy() # Create a copy to avoid SettingWithCopyWarning\n",
        "\n",
        "# Now use the cleaned DataFrame for the rest of the calculation\n",
        "df_cleaned['date_str'] = df_cleaned['datetime'].dt.strftime('%d-%b-%Y')\n",
        "unique_filenames_per_day = df_cleaned.groupby('date_str')['filename'].nunique()\n",
        "print(unique_filenames_per_day.to_dict())"
      ],
      "metadata": {
        "colab": {
          "base_uri": "https://localhost:8080/"
        },
        "id": "plEVVy69nTJS",
        "outputId": "ba919eb2-d426-48f8-9b74-b5d00e1fdcbe"
      },
      "execution_count": 40,
      "outputs": [
        {
          "output_type": "stream",
          "name": "stdout",
          "text": [
            "\n",
            "Q3: Unique filenames per date (format: dd-MMM-yyyy):\n",
            "{'01-Aug-1995': 669, '01-Jul-1995': 387, '01-Jun-1995': 590, '01-May-1995': 467, '01-Oct-1995': 552, '01-Sep-1995': 328, '02-Apr-1995': 438, '02-Aug-1995': 855, '02-Jul-1995': 397, '02-Jun-1995': 513, '02-May-1995': 701, '02-Oct-1995': 871, '02-Sep-1995': 349, '03-Apr-1995': 795, '03-Aug-1995': 582, '03-Jul-1995': 433, '03-Jun-1995': 398, '03-May-1995': 589, '03-Oct-1995': 846, '03-Sep-1995': 212, '04-Apr-1995': 821, '04-Aug-1995': 715, '04-Jul-1995': 610, '04-Jun-1995': 353, '04-May-1995': 684, '04-Oct-1995': 889, '04-Sep-1995': 340, '05-Apr-1995': 891, '05-Aug-1995': 507, '05-Jul-1995': 607, '05-Jun-1995': 494, '05-May-1995': 608, '05-Oct-1995': 846, '05-Sep-1995': 411, '06-Apr-1995': 678, '06-Aug-1995': 448, '06-Jul-1995': 522, '06-Jun-1995': 662, '06-May-1995': 517, '06-Oct-1995': 868, '06-Sep-1995': 549, '07-Apr-1995': 776, '07-Aug-1995': 608, '07-Jul-1995': 428, '07-Jun-1995': 485, '07-May-1995': 725, '07-Oct-1995': 468, '07-Sep-1995': 590, '08-Apr-1995': 542, '08-Aug-1995': 654, '08-Jul-1995': 277, '08-Jun-1995': 642, '08-May-1995': 656, '08-Oct-1995': 514, '08-Sep-1995': 754, '09-Apr-1995': 626, '09-Aug-1995': 698, '09-Jul-1995': 233, '09-Jun-1995': 468, '09-May-1995': 775, '09-Oct-1995': 742, '09-Sep-1995': 408, '10-Apr-1995': 750, '10-Aug-1995': 635, '10-Jul-1995': 502, '10-Jun-1995': 328, '10-May-1995': 794, '10-Oct-1995': 841, '10-Sep-1995': 455, '11-Apr-1995': 816, '11-Aug-1995': 451, '11-Jul-1995': 571, '11-Jun-1995': 297, '11-May-1995': 599, '11-Oct-1995': 717, '11-Sep-1995': 717, '12-Apr-1995': 887, '12-Aug-1995': 340, '12-Jul-1995': 467, '12-Jun-1995': 519, '12-May-1995': 469, '12-Sep-1995': 718, '13-Apr-1995': 613, '13-Aug-1995': 463, '13-Jul-1995': 499, '13-Jun-1995': 465, '13-May-1995': 289, '13-Sep-1995': 773, '14-Apr-1995': 353, '14-Aug-1995': 589, '14-Jul-1995': 551, '14-Jun-1995': 589, '14-May-1995': 326, '14-Sep-1995': 718, '15-Apr-1995': 418, '15-Aug-1995': 481, '15-Jul-1995': 384, '15-Jun-1995': 479, '15-May-1995': 584, '15-Sep-1995': 709, '16-Apr-1995': 434, '16-Aug-1995': 601, '16-Jul-1995': 299, '16-Jun-1995': 529, '16-May-1995': 432, '16-Sep-1995': 564, '17-Apr-1995': 446, '17-Aug-1995': 537, '17-Jul-1995': 567, '17-Jun-1995': 383, '17-May-1995': 508, '17-Sep-1995': 466, '18-Apr-1995': 452, '18-Aug-1995': 492, '18-Jul-1995': 557, '18-Jun-1995': 358, '18-May-1995': 528, '18-Sep-1995': 657, '19-Apr-1995': 701, '19-Aug-1995': 377, '19-Jul-1995': 471, '19-Jun-1995': 612, '19-May-1995': 499, '19-Sep-1995': 735, '20-Apr-1995': 587, '20-Aug-1995': 395, '20-Jul-1995': 569, '20-Jun-1995': 531, '20-May-1995': 254, '20-Sep-1995': 832, '21-Apr-1995': 713, '21-Aug-1995': 631, '21-Jul-1995': 649, '21-Jun-1995': 625, '21-May-1995': 288, '21-Sep-1995': 800, '22-Apr-1995': 435, '22-Aug-1995': 538, '22-Jul-1995': 444, '22-Jun-1995': 630, '22-May-1995': 477, '22-Sep-1995': 615, '23-Apr-1995': 332, '23-Aug-1995': 660, '23-Jul-1995': 498, '23-Jun-1995': 561, '23-May-1995': 565, '23-Sep-1995': 502, '24-Apr-1995': 529, '24-Aug-1995': 578, '24-Jul-1995': 565, '24-Jun-1995': 396, '24-May-1995': 490, '24-Oct-1994': 228, '24-Sep-1995': 593, '25-Apr-1995': 557, '25-Aug-1995': 595, '25-Jul-1995': 588, '25-Jun-1995': 569, '25-May-1995': 487, '25-Oct-1994': 319, '25-Sep-1995': 723, '26-Apr-1995': 647, '26-Aug-1995': 394, '26-Jul-1995': 598, '26-Jun-1995': 638, '26-May-1995': 424, '26-Oct-1994': 377, '26-Sep-1995': 871, '27-Apr-1995': 616, '27-Aug-1995': 436, '27-Jul-1995': 614, '27-Jun-1995': 518, '27-May-1995': 244, '27-Oct-1994': 384, '27-Sep-1995': 826, '28-Apr-1995': 637, '28-Aug-1995': 548, '28-Jul-1995': 564, '28-Jun-1995': 573, '28-May-1995': 205, '28-Oct-1994': 399, '28-Sep-1995': 867, '29-Apr-1995': 449, '29-Aug-1995': 511, '29-Jul-1995': 320, '29-Jun-1995': 469, '29-May-1995': 464, '29-Oct-1994': 254, '29-Sep-1995': 838, '30-Apr-1995': 277, '30-Aug-1995': 593, '30-Jul-1995': 481, '30-Jun-1995': 461, '30-May-1995': 553, '30-Oct-1994': 20, '30-Sep-1995': 650, '31-Aug-1995': 509, '31-Jul-1995': 622, '31-May-1995': 571}\n"
          ]
        }
      ]
    },
    {
      "cell_type": "code",
      "source": [
        "# Q4: Number of 404 response codes\n",
        "print(\"\\nQ4: Total number of 404 errors:\")\n",
        "total_404 = df[df['status'] == 404].shape[0]\n",
        "print(total_404)"
      ],
      "metadata": {
        "colab": {
          "base_uri": "https://localhost:8080/"
        },
        "id": "R3KnL1nhnTHM",
        "outputId": "727d5ea9-b4c8-4ba0-bb66-0b613ef951f1"
      },
      "execution_count": 41,
      "outputs": [
        {
          "output_type": "stream",
          "name": "stdout",
          "text": [
            "\n",
            "Q4: Total number of 404 errors:\n",
            "23517\n"
          ]
        }
      ]
    },
    {
      "cell_type": "code",
      "source": [
        "# Q5: Top 15 filenames with 404 responses\n",
        "print(\"\\nQ5: Top 15 filenames causing 404 errors:\")\n",
        "top_404_files = df[df['status'] == 404]['filename'].value_counts().head(15)\n",
        "print(list(top_404_files.items()))"
      ],
      "metadata": {
        "colab": {
          "base_uri": "https://localhost:8080/"
        },
        "id": "3tsyfMJwnTFa",
        "outputId": "6185d95c-1084-4e56-92f7-3dd9516bab69"
      },
      "execution_count": 42,
      "outputs": [
        {
          "output_type": "stream",
          "name": "stdout",
          "text": [
            "\n",
            "Q5: Top 15 filenames causing 404 errors:\n",
            "[('index.html', 4694), ('4115.html', 902), ('1611.html', 649), ('5698.xbm', 585), ('710.txt', 408), ('2002.html', 258), ('2177.gif', 193), ('10695.ps', 161), ('6555.html', 153), ('487.gif', 152), ('151.html', 149), ('40.html', 148), ('3414.gif', 148), ('488.gif', 148), ('9678.gif', 142)]\n"
          ]
        }
      ]
    },
    {
      "cell_type": "code",
      "source": [
        "# Q6: Top 15 file extensions that caused 404 errors\n",
        "print(\"\\nQ6: Top 15 file extensions causing 404 errors:\")\n",
        "top_404_ext = df[df['status'] == 404]['extension'].value_counts().head(15)\n",
        "print(list(top_404_ext.items()))"
      ],
      "metadata": {
        "colab": {
          "base_uri": "https://localhost:8080/"
        },
        "id": "7A4QjW0MnTDa",
        "outputId": "da64f17c-6b59-4c87-a2f2-6010e78296df"
      },
      "execution_count": 43,
      "outputs": [
        {
          "output_type": "stream",
          "name": "stdout",
          "text": [
            "\n",
            "Q6: Top 15 file extensions causing 404 errors:\n",
            "[('html', 12145), ('gif', 7337), ('xbm', 824), ('ps', 754), ('jpg', 531), ('txt', 508), ('htm', 108), ('cgi', 77), ('com', 45), ('z', 41), ('dvi', 40), ('com/', 37), ('ca', 36), ('hmtl', 30), ('util', 29)]\n"
          ]
        }
      ]
    },
    {
      "cell_type": "code",
      "source": [
        "# Q7: Total bandwidth transferred per day for July 1995\n",
        "print(\"\\nQ7: Bandwidth transferred per day in July 1995:\")\n",
        "july_df = df[(df['datetime'].dt.month == 7) & (df['datetime'].dt.year == 1995)]\n",
        "july_bandwidth = july_df.dropna(subset=['bytes']).groupby(\n",
        "    july_df['datetime'].dt.strftime('%d-%b-%Y')\n",
        ")['bytes'].sum()\n",
        "print(july_bandwidth.astype(int).to_dict())"
      ],
      "metadata": {
        "colab": {
          "base_uri": "https://localhost:8080/"
        },
        "id": "owIaDsn0nTBT",
        "outputId": "dba7b03d-3c21-4b9f-fb67-27558b557568"
      },
      "execution_count": 44,
      "outputs": [
        {
          "output_type": "stream",
          "name": "stdout",
          "text": [
            "\n",
            "Q7: Bandwidth transferred per day in July 1995:\n",
            "{'01-Jul-1995': 11349799, '02-Jul-1995': 8656918, '03-Jul-1995': 13596612, '04-Jul-1995': 26573988, '05-Jul-1995': 19541225, '06-Jul-1995': 19755015, '07-Jul-1995': 9427822, '08-Jul-1995': 5403491, '09-Jul-1995': 4660556, '10-Jul-1995': 14917754, '11-Jul-1995': 22507207, '12-Jul-1995': 17367065, '13-Jul-1995': 15989234, '14-Jul-1995': 19186430, '15-Jul-1995': 15773233, '16-Jul-1995': 9016378, '17-Jul-1995': 19601338, '18-Jul-1995': 17099761, '19-Jul-1995': 17851725, '20-Jul-1995': 20752623, '21-Jul-1995': 25491617, '22-Jul-1995': 8136259, '23-Jul-1995': 9593870, '24-Jul-1995': 22308265, '25-Jul-1995': 24561635, '26-Jul-1995': 24995540, '27-Jul-1995': 25969995, '28-Jul-1995': 36460693, '29-Jul-1995': 11700624, '30-Jul-1995': 23189598, '31-Jul-1995': 30730715}\n"
          ]
        }
      ]
    },
    {
      "cell_type": "code",
      "source": [
        "# Q8: Hourly request distribution (0–23)\n",
        "print(\"\\nQ8: Number of HTTP requests per hour (0–23):\")\n",
        "df['hour'] = df['datetime'].dt.hour\n",
        "hourly_dist = df['hour'].value_counts().sort_index()\n",
        "print(hourly_dist.to_dict())"
      ],
      "metadata": {
        "colab": {
          "base_uri": "https://localhost:8080/"
        },
        "id": "gi3BBKrfnS7S",
        "outputId": "ab06f54c-70e7-41a3-a291-19c7c94bf7a7"
      },
      "execution_count": 45,
      "outputs": [
        {
          "output_type": "stream",
          "name": "stdout",
          "text": [
            "\n",
            "Q8: Number of HTTP requests per hour (0–23):\n",
            "{0.0: 11598, 1.0: 9913, 2.0: 9403, 3.0: 8147, 4.0: 7820, 5.0: 8283, 6.0: 9798, 7.0: 11930, 8.0: 17351, 9.0: 21681, 10.0: 25713, 11.0: 28665, 12.0: 26845, 13.0: 30089, 14.0: 29792, 15.0: 28149, 16.0: 28286, 17.0: 23312, 18.0: 17862, 19.0: 17325, 20.0: 17488, 21.0: 15965, 22.0: 14587, 23.0: 13613}\n"
          ]
        }
      ]
    },
    {
      "cell_type": "code",
      "source": [
        "# Q9: Top 10 most frequently requested filenames\n",
        "print(\"\\nQ9: Top 10 most requested filenames:\")\n",
        "top_requested = df['filename'].value_counts().head(10)\n",
        "print(list(top_requested.items()))\n"
      ],
      "metadata": {
        "colab": {
          "base_uri": "https://localhost:8080/"
        },
        "id": "OA2VmMlanoB5",
        "outputId": "bed00b48-eb26-48b1-92f7-0932f7187f35"
      },
      "execution_count": 46,
      "outputs": [
        {
          "output_type": "stream",
          "name": "stdout",
          "text": [
            "\n",
            "Q9: Top 10 most requested filenames:\n",
            "[('index.html', 139528), ('3.gif', 24006), ('2.gif', 23595), ('4.gif', 8018), ('244.gif', 5148), ('5.html', 5010), ('4097.gif', 4874), ('8870.jpg', 4492), ('6733.gif', 4278), ('8472.gif', 3843)]\n"
          ]
        }
      ]
    },
    {
      "cell_type": "code",
      "source": [
        "# Q10: Count of each HTTP response status code\n",
        "print(\"\\nQ10: Distribution of HTTP response status codes:\")\n",
        "status_distribution = df['status'].value_counts().sort_index()\n",
        "print(status_distribution.to_dict())"
      ],
      "metadata": {
        "colab": {
          "base_uri": "https://localhost:8080/"
        },
        "id": "9CTesfYInSzY",
        "outputId": "ee0cebfe-2978-42e9-8a61-30a0ce4aeefc"
      },
      "execution_count": 47,
      "outputs": [
        {
          "output_type": "stream",
          "name": "stdout",
          "text": [
            "\n",
            "Q10: Distribution of HTTP response status codes:\n",
            "{200: 568345, 302: 30295, 304: 97792, 400: 15, 401: 46, 403: 4741, 404: 23517, 500: 42, 501: 43}\n"
          ]
        }
      ]
    }
  ]
}